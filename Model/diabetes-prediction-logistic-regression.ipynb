{
 "cells": [
  {
   "cell_type": "code",
   "execution_count": 16,
   "id": "6ba2ba62",
   "metadata": {
    "execution": {
     "iopub.execute_input": "2023-01-03T17:00:50.860344Z",
     "iopub.status.busy": "2023-01-03T17:00:50.859639Z",
     "iopub.status.idle": "2023-01-03T17:00:52.350356Z",
     "shell.execute_reply": "2023-01-03T17:00:52.349282Z"
    },
    "papermill": {
     "duration": 1.507534,
     "end_time": "2023-01-03T17:00:52.353322",
     "exception": false,
     "start_time": "2023-01-03T17:00:50.845788",
     "status": "completed"
    },
    "tags": []
   },
   "outputs": [],
   "source": [
    "import pandas as pd\n",
    "from sklearn.model_selection import train_test_split\n",
    "from sklearn.linear_model import LogisticRegression\n",
    "from sklearn import metrics\n",
    "from sklearn.metrics import classification_report, confusion_matrix"
   ]
  },
  {
   "attachments": {},
   "cell_type": "markdown",
   "id": "1914b626",
   "metadata": {
    "papermill": {
     "duration": 0.012115,
     "end_time": "2023-01-03T17:00:52.377700",
     "exception": false,
     "start_time": "2023-01-03T17:00:52.365585",
     "status": "completed"
    },
    "tags": []
   },
   "source": [
    "<span style=\"color:blue;font-weight:700;font-size:25px\">\n",
    "    Importing the dataset\n",
    "</span> "
   ]
  },
  {
   "cell_type": "code",
   "execution_count": 17,
   "id": "a07db157",
   "metadata": {
    "execution": {
     "iopub.execute_input": "2023-01-03T17:00:52.404049Z",
     "iopub.status.busy": "2023-01-03T17:00:52.403584Z",
     "iopub.status.idle": "2023-01-03T17:00:52.425116Z",
     "shell.execute_reply": "2023-01-03T17:00:52.424132Z"
    },
    "papermill": {
     "duration": 0.037965,
     "end_time": "2023-01-03T17:00:52.427787",
     "exception": false,
     "start_time": "2023-01-03T17:00:52.389822",
     "status": "completed"
    },
    "tags": []
   },
   "outputs": [],
   "source": [
    "data = pd.read_csv (\"diabetes.csv\")"
   ]
  },
  {
   "attachments": {},
   "cell_type": "markdown",
   "id": "43b6d3f7",
   "metadata": {
    "papermill": {
     "duration": 0.012039,
     "end_time": "2023-01-03T17:00:52.452371",
     "exception": false,
     "start_time": "2023-01-03T17:00:52.440332",
     "status": "completed"
    },
    "tags": []
   },
   "source": [
    "<span style=\"color:blue;font-weight:700;font-size:25px\">\n",
    "    Creating a DataFrame\n",
    "</span> "
   ]
  },
  {
   "cell_type": "code",
   "execution_count": 18,
   "id": "466c5218",
   "metadata": {
    "execution": {
     "iopub.execute_input": "2023-01-03T17:00:52.478946Z",
     "iopub.status.busy": "2023-01-03T17:00:52.478165Z",
     "iopub.status.idle": "2023-01-03T17:00:52.504594Z",
     "shell.execute_reply": "2023-01-03T17:00:52.503635Z"
    },
    "papermill": {
     "duration": 0.042537,
     "end_time": "2023-01-03T17:00:52.507133",
     "exception": false,
     "start_time": "2023-01-03T17:00:52.464596",
     "status": "completed"
    },
    "tags": []
   },
   "outputs": [
    {
     "data": {
      "text/html": [
       "<div>\n",
       "<style scoped>\n",
       "    .dataframe tbody tr th:only-of-type {\n",
       "        vertical-align: middle;\n",
       "    }\n",
       "\n",
       "    .dataframe tbody tr th {\n",
       "        vertical-align: top;\n",
       "    }\n",
       "\n",
       "    .dataframe thead th {\n",
       "        text-align: right;\n",
       "    }\n",
       "</style>\n",
       "<table border=\"1\" class=\"dataframe\">\n",
       "  <thead>\n",
       "    <tr style=\"text-align: right;\">\n",
       "      <th></th>\n",
       "      <th>Pregnancies</th>\n",
       "      <th>Glucose</th>\n",
       "      <th>BloodPressure</th>\n",
       "      <th>SkinThickness</th>\n",
       "      <th>Insulin</th>\n",
       "      <th>BMI</th>\n",
       "      <th>DiabetesPedigreeFunction</th>\n",
       "      <th>Age</th>\n",
       "      <th>Outcome</th>\n",
       "    </tr>\n",
       "  </thead>\n",
       "  <tbody>\n",
       "    <tr>\n",
       "      <th>0</th>\n",
       "      <td>6</td>\n",
       "      <td>148</td>\n",
       "      <td>72</td>\n",
       "      <td>35</td>\n",
       "      <td>0</td>\n",
       "      <td>33.6</td>\n",
       "      <td>0.627</td>\n",
       "      <td>50</td>\n",
       "      <td>1</td>\n",
       "    </tr>\n",
       "    <tr>\n",
       "      <th>1</th>\n",
       "      <td>1</td>\n",
       "      <td>85</td>\n",
       "      <td>66</td>\n",
       "      <td>29</td>\n",
       "      <td>0</td>\n",
       "      <td>26.6</td>\n",
       "      <td>0.351</td>\n",
       "      <td>31</td>\n",
       "      <td>0</td>\n",
       "    </tr>\n",
       "    <tr>\n",
       "      <th>2</th>\n",
       "      <td>8</td>\n",
       "      <td>183</td>\n",
       "      <td>64</td>\n",
       "      <td>0</td>\n",
       "      <td>0</td>\n",
       "      <td>23.3</td>\n",
       "      <td>0.672</td>\n",
       "      <td>32</td>\n",
       "      <td>1</td>\n",
       "    </tr>\n",
       "    <tr>\n",
       "      <th>3</th>\n",
       "      <td>1</td>\n",
       "      <td>89</td>\n",
       "      <td>66</td>\n",
       "      <td>23</td>\n",
       "      <td>94</td>\n",
       "      <td>28.1</td>\n",
       "      <td>0.167</td>\n",
       "      <td>21</td>\n",
       "      <td>0</td>\n",
       "    </tr>\n",
       "    <tr>\n",
       "      <th>4</th>\n",
       "      <td>0</td>\n",
       "      <td>137</td>\n",
       "      <td>40</td>\n",
       "      <td>35</td>\n",
       "      <td>168</td>\n",
       "      <td>43.1</td>\n",
       "      <td>2.288</td>\n",
       "      <td>33</td>\n",
       "      <td>1</td>\n",
       "    </tr>\n",
       "  </tbody>\n",
       "</table>\n",
       "</div>"
      ],
      "text/plain": [
       "   Pregnancies  Glucose  BloodPressure  SkinThickness  Insulin   BMI  \\\n",
       "0            6      148             72             35        0  33.6   \n",
       "1            1       85             66             29        0  26.6   \n",
       "2            8      183             64              0        0  23.3   \n",
       "3            1       89             66             23       94  28.1   \n",
       "4            0      137             40             35      168  43.1   \n",
       "\n",
       "   DiabetesPedigreeFunction  Age  Outcome  \n",
       "0                     0.627   50        1  \n",
       "1                     0.351   31        0  \n",
       "2                     0.672   32        1  \n",
       "3                     0.167   21        0  \n",
       "4                     2.288   33        1  "
      ]
     },
     "execution_count": 18,
     "metadata": {},
     "output_type": "execute_result"
    }
   ],
   "source": [
    "df = pd.DataFrame (data)\n",
    "df.head()"
   ]
  },
  {
   "attachments": {},
   "cell_type": "markdown",
   "id": "04e7242b",
   "metadata": {
    "papermill": {
     "duration": 0.012177,
     "end_time": "2023-01-03T17:00:52.531906",
     "exception": false,
     "start_time": "2023-01-03T17:00:52.519729",
     "status": "completed"
    },
    "tags": []
   },
   "source": [
    "<span style=\"color:blue;font-weight:700;font-size:25px\">\n",
    "    Data Shape and information\n",
    "</span> "
   ]
  },
  {
   "attachments": {},
   "cell_type": "markdown",
   "id": "3eb2e719",
   "metadata": {
    "papermill": {
     "duration": 0.043189,
     "end_time": "2023-01-03T17:01:14.205405",
     "exception": false,
     "start_time": "2023-01-03T17:01:14.162216",
     "status": "completed"
    },
    "tags": []
   },
   "source": [
    "<span style=\"color:blue;font-weight:700;font-size:30px\">\n",
    " Selecting features\n",
    "</span> "
   ]
  },
  {
   "cell_type": "code",
   "execution_count": 19,
   "id": "f717bbe7",
   "metadata": {
    "execution": {
     "iopub.execute_input": "2023-01-03T17:01:14.292084Z",
     "iopub.status.busy": "2023-01-03T17:01:14.291683Z",
     "iopub.status.idle": "2023-01-03T17:01:14.298407Z",
     "shell.execute_reply": "2023-01-03T17:01:14.297015Z"
    },
    "papermill": {
     "duration": 0.04927,
     "end_time": "2023-01-03T17:01:14.300668",
     "exception": false,
     "start_time": "2023-01-03T17:01:14.251398",
     "status": "completed"
    },
    "tags": []
   },
   "outputs": [],
   "source": [
    "X = pd.DataFrame (data , columns = [\"Pregnancies\" , \"Glucose\" , \"BloodPressure\" , \"SkinThickness\" , \"Insulin\" , \"BMI\"\n",
    "                                   , \"DiabetesPedigreeFunction\" , \"Age\"]) # Features\n",
    "y = data.Outcome # Target variables"
   ]
  },
  {
   "attachments": {},
   "cell_type": "markdown",
   "id": "4254e701",
   "metadata": {
    "execution": {
     "iopub.execute_input": "2022-09-07T15:44:13.073164Z",
     "iopub.status.busy": "2022-09-07T15:44:13.072690Z",
     "iopub.status.idle": "2022-09-07T15:44:13.078875Z",
     "shell.execute_reply": "2022-09-07T15:44:13.077843Z",
     "shell.execute_reply.started": "2022-09-07T15:44:13.073119Z"
    },
    "papermill": {
     "duration": 0.034511,
     "end_time": "2023-01-03T17:01:14.736249",
     "exception": false,
     "start_time": "2023-01-03T17:01:14.701738",
     "status": "completed"
    },
    "tags": []
   },
   "source": [
    "<span style=\"color:blue;font-weight:700;font-size:25px\">\n",
    "    Split X and y into training and testing sets\n",
    "</span> "
   ]
  },
  {
   "cell_type": "code",
   "execution_count": 20,
   "id": "5bf0ae52",
   "metadata": {
    "execution": {
     "iopub.execute_input": "2023-01-03T17:01:14.807443Z",
     "iopub.status.busy": "2023-01-03T17:01:14.806168Z",
     "iopub.status.idle": "2023-01-03T17:01:14.812937Z",
     "shell.execute_reply": "2023-01-03T17:01:14.812022Z"
    },
    "papermill": {
     "duration": 0.044929,
     "end_time": "2023-01-03T17:01:14.815147",
     "exception": false,
     "start_time": "2023-01-03T17:01:14.770218",
     "status": "completed"
    },
    "tags": []
   },
   "outputs": [],
   "source": [
    "# Training = 75 , Testing = 25\n",
    "\n",
    "X_train , X_test , y_train , y_test = train_test_split (X , y , test_size = 0.25 , random_state = 0)"
   ]
  },
  {
   "cell_type": "code",
   "execution_count": 21,
   "id": "ec082a2c",
   "metadata": {
    "execution": {
     "iopub.execute_input": "2023-01-03T17:01:14.886452Z",
     "iopub.status.busy": "2023-01-03T17:01:14.885981Z",
     "iopub.status.idle": "2023-01-03T17:01:14.905874Z",
     "shell.execute_reply": "2023-01-03T17:01:14.904618Z"
    },
    "papermill": {
     "duration": 0.058989,
     "end_time": "2023-01-03T17:01:14.909073",
     "exception": false,
     "start_time": "2023-01-03T17:01:14.850084",
     "status": "completed"
    },
    "tags": []
   },
   "outputs": [],
   "source": [
    "logreg = LogisticRegression (solver = \"liblinear\")\n",
    "\n",
    "logreg.fit (X_train , y_train)                     # Fitting a  model    \n",
    "y_pred = logreg.predict(X_test)                    # Predicted class labels from test features\n",
    "y_predicted_proba = logreg.predict_proba(X_test)   # Predicted probabilities from test features"
   ]
  },
  {
   "cell_type": "code",
   "execution_count": 22,
   "id": "1959ebe3",
   "metadata": {
    "execution": {
     "iopub.execute_input": "2023-01-03T17:01:14.979282Z",
     "iopub.status.busy": "2023-01-03T17:01:14.978829Z",
     "iopub.status.idle": "2023-01-03T17:01:14.986923Z",
     "shell.execute_reply": "2023-01-03T17:01:14.985470Z"
    },
    "papermill": {
     "duration": 0.047296,
     "end_time": "2023-01-03T17:01:14.990324",
     "exception": false,
     "start_time": "2023-01-03T17:01:14.943028",
     "status": "completed"
    },
    "tags": []
   },
   "outputs": [
    {
     "name": "stdout",
     "output_type": "stream",
     "text": [
      "Accuracy:  0.8072916666666666\n"
     ]
    }
   ],
   "source": [
    "print (\"Accuracy: \" , metrics.accuracy_score (y_test , y_pred))"
   ]
  },
  {
   "cell_type": "code",
   "execution_count": 23,
   "id": "3533d2d3",
   "metadata": {
    "execution": {
     "iopub.execute_input": "2023-01-03T17:01:15.887786Z",
     "iopub.status.busy": "2023-01-03T17:01:15.886940Z",
     "iopub.status.idle": "2023-01-03T17:01:15.907296Z",
     "shell.execute_reply": "2023-01-03T17:01:15.905725Z"
    },
    "papermill": {
     "duration": 0.061433,
     "end_time": "2023-01-03T17:01:15.910114",
     "exception": false,
     "start_time": "2023-01-03T17:01:15.848681",
     "status": "completed"
    },
    "tags": []
   },
   "outputs": [
    {
     "data": {
      "text/plain": [
       "LogisticRegression(C=10.0, random_state=0, solver='liblinear')"
      ]
     },
     "execution_count": 23,
     "metadata": {},
     "output_type": "execute_result"
    }
   ],
   "source": [
    "model = LogisticRegression (solver = \"liblinear\"  , C = 10.0 , random_state = 0)\n",
    "model.fit(X,y)"
   ]
  },
  {
   "cell_type": "code",
   "execution_count": 24,
   "id": "d8e1dcb9",
   "metadata": {
    "execution": {
     "iopub.execute_input": "2023-01-03T17:01:15.984064Z",
     "iopub.status.busy": "2023-01-03T17:01:15.983634Z",
     "iopub.status.idle": "2023-01-03T17:01:16.000153Z",
     "shell.execute_reply": "2023-01-03T17:01:15.998986Z"
    },
    "papermill": {
     "duration": 0.057054,
     "end_time": "2023-01-03T17:01:16.002640",
     "exception": false,
     "start_time": "2023-01-03T17:01:15.945586",
     "status": "completed"
    },
    "tags": []
   },
   "outputs": [
    {
     "data": {
      "text/html": [
       "<div>\n",
       "<style scoped>\n",
       "    .dataframe tbody tr th:only-of-type {\n",
       "        vertical-align: middle;\n",
       "    }\n",
       "\n",
       "    .dataframe tbody tr th {\n",
       "        vertical-align: top;\n",
       "    }\n",
       "\n",
       "    .dataframe thead th {\n",
       "        text-align: right;\n",
       "    }\n",
       "</style>\n",
       "<table border=\"1\" class=\"dataframe\">\n",
       "  <thead>\n",
       "    <tr style=\"text-align: right;\">\n",
       "      <th></th>\n",
       "      <th>Pregnancies</th>\n",
       "      <th>Glucose</th>\n",
       "      <th>BloodPressure</th>\n",
       "      <th>SkinThickness</th>\n",
       "      <th>Insulin</th>\n",
       "      <th>BMI</th>\n",
       "      <th>DiabetesPedigreeFunction</th>\n",
       "      <th>Age</th>\n",
       "      <th>Outcome</th>\n",
       "    </tr>\n",
       "  </thead>\n",
       "  <tbody>\n",
       "    <tr>\n",
       "      <th>0</th>\n",
       "      <td>0</td>\n",
       "      <td>80</td>\n",
       "      <td>72</td>\n",
       "      <td>0</td>\n",
       "      <td>0</td>\n",
       "      <td>23</td>\n",
       "      <td>0.5</td>\n",
       "      <td>30</td>\n",
       "      <td>0</td>\n",
       "    </tr>\n",
       "  </tbody>\n",
       "</table>\n",
       "</div>"
      ],
      "text/plain": [
       "   Pregnancies  Glucose  BloodPressure  SkinThickness  Insulin  BMI  \\\n",
       "0            0       80             72              0        0   23   \n",
       "\n",
       "   DiabetesPedigreeFunction  Age  Outcome  \n",
       "0                       0.5   30        0  "
      ]
     },
     "execution_count": 24,
     "metadata": {},
     "output_type": "execute_result"
    }
   ],
   "source": [
    "df2 = pd.DataFrame ({\"Pregnancies\" : [0] , \"Glucose\" :[80] , \"BloodPressure\" :[72] ,\"SkinThickness\" : [0] ,\n",
    "                    \"Insulin\" : [0] , \"BMI\" : [23] , \"DiabetesPedigreeFunction\" : [0.5] , \n",
    "                    \"Age\" : [30] , \"Outcome\" : [0]})\n",
    "df2"
   ]
  },
  {
   "cell_type": "code",
   "execution_count": 25,
   "id": "523528f7",
   "metadata": {
    "execution": {
     "iopub.execute_input": "2023-01-03T17:01:16.077397Z",
     "iopub.status.busy": "2023-01-03T17:01:16.076134Z",
     "iopub.status.idle": "2023-01-03T17:01:16.095281Z",
     "shell.execute_reply": "2023-01-03T17:01:16.094141Z"
    },
    "papermill": {
     "duration": 0.059755,
     "end_time": "2023-01-03T17:01:16.097684",
     "exception": false,
     "start_time": "2023-01-03T17:01:16.037929",
     "status": "completed"
    },
    "tags": []
   },
   "outputs": [
    {
     "data": {
      "text/html": [
       "<div>\n",
       "<style scoped>\n",
       "    .dataframe tbody tr th:only-of-type {\n",
       "        vertical-align: middle;\n",
       "    }\n",
       "\n",
       "    .dataframe tbody tr th {\n",
       "        vertical-align: top;\n",
       "    }\n",
       "\n",
       "    .dataframe thead th {\n",
       "        text-align: right;\n",
       "    }\n",
       "</style>\n",
       "<table border=\"1\" class=\"dataframe\">\n",
       "  <thead>\n",
       "    <tr style=\"text-align: right;\">\n",
       "      <th></th>\n",
       "      <th>Pregnancies</th>\n",
       "      <th>Glucose</th>\n",
       "      <th>BloodPressure</th>\n",
       "      <th>SkinThickness</th>\n",
       "      <th>Insulin</th>\n",
       "      <th>BMI</th>\n",
       "      <th>DiabetesPedigreeFunction</th>\n",
       "      <th>Age</th>\n",
       "      <th>Outcome</th>\n",
       "    </tr>\n",
       "  </thead>\n",
       "  <tbody>\n",
       "    <tr>\n",
       "      <th>0</th>\n",
       "      <td>6</td>\n",
       "      <td>148</td>\n",
       "      <td>72</td>\n",
       "      <td>35</td>\n",
       "      <td>0</td>\n",
       "      <td>33.6</td>\n",
       "      <td>0.627</td>\n",
       "      <td>50</td>\n",
       "      <td>1</td>\n",
       "    </tr>\n",
       "    <tr>\n",
       "      <th>1</th>\n",
       "      <td>1</td>\n",
       "      <td>85</td>\n",
       "      <td>66</td>\n",
       "      <td>29</td>\n",
       "      <td>0</td>\n",
       "      <td>26.6</td>\n",
       "      <td>0.351</td>\n",
       "      <td>31</td>\n",
       "      <td>0</td>\n",
       "    </tr>\n",
       "    <tr>\n",
       "      <th>2</th>\n",
       "      <td>8</td>\n",
       "      <td>183</td>\n",
       "      <td>64</td>\n",
       "      <td>0</td>\n",
       "      <td>0</td>\n",
       "      <td>23.3</td>\n",
       "      <td>0.672</td>\n",
       "      <td>32</td>\n",
       "      <td>1</td>\n",
       "    </tr>\n",
       "    <tr>\n",
       "      <th>3</th>\n",
       "      <td>1</td>\n",
       "      <td>89</td>\n",
       "      <td>66</td>\n",
       "      <td>23</td>\n",
       "      <td>94</td>\n",
       "      <td>28.1</td>\n",
       "      <td>0.167</td>\n",
       "      <td>21</td>\n",
       "      <td>0</td>\n",
       "    </tr>\n",
       "    <tr>\n",
       "      <th>4</th>\n",
       "      <td>0</td>\n",
       "      <td>137</td>\n",
       "      <td>40</td>\n",
       "      <td>35</td>\n",
       "      <td>168</td>\n",
       "      <td>43.1</td>\n",
       "      <td>2.288</td>\n",
       "      <td>33</td>\n",
       "      <td>1</td>\n",
       "    </tr>\n",
       "    <tr>\n",
       "      <th>...</th>\n",
       "      <td>...</td>\n",
       "      <td>...</td>\n",
       "      <td>...</td>\n",
       "      <td>...</td>\n",
       "      <td>...</td>\n",
       "      <td>...</td>\n",
       "      <td>...</td>\n",
       "      <td>...</td>\n",
       "      <td>...</td>\n",
       "    </tr>\n",
       "    <tr>\n",
       "      <th>764</th>\n",
       "      <td>2</td>\n",
       "      <td>122</td>\n",
       "      <td>70</td>\n",
       "      <td>27</td>\n",
       "      <td>0</td>\n",
       "      <td>36.8</td>\n",
       "      <td>0.340</td>\n",
       "      <td>27</td>\n",
       "      <td>0</td>\n",
       "    </tr>\n",
       "    <tr>\n",
       "      <th>765</th>\n",
       "      <td>5</td>\n",
       "      <td>121</td>\n",
       "      <td>72</td>\n",
       "      <td>23</td>\n",
       "      <td>112</td>\n",
       "      <td>26.2</td>\n",
       "      <td>0.245</td>\n",
       "      <td>30</td>\n",
       "      <td>0</td>\n",
       "    </tr>\n",
       "    <tr>\n",
       "      <th>766</th>\n",
       "      <td>1</td>\n",
       "      <td>126</td>\n",
       "      <td>60</td>\n",
       "      <td>0</td>\n",
       "      <td>0</td>\n",
       "      <td>30.1</td>\n",
       "      <td>0.349</td>\n",
       "      <td>47</td>\n",
       "      <td>1</td>\n",
       "    </tr>\n",
       "    <tr>\n",
       "      <th>767</th>\n",
       "      <td>1</td>\n",
       "      <td>93</td>\n",
       "      <td>70</td>\n",
       "      <td>31</td>\n",
       "      <td>0</td>\n",
       "      <td>30.4</td>\n",
       "      <td>0.315</td>\n",
       "      <td>23</td>\n",
       "      <td>0</td>\n",
       "    </tr>\n",
       "    <tr>\n",
       "      <th>0</th>\n",
       "      <td>0</td>\n",
       "      <td>80</td>\n",
       "      <td>72</td>\n",
       "      <td>0</td>\n",
       "      <td>0</td>\n",
       "      <td>23.0</td>\n",
       "      <td>0.500</td>\n",
       "      <td>30</td>\n",
       "      <td>0</td>\n",
       "    </tr>\n",
       "  </tbody>\n",
       "</table>\n",
       "<p>769 rows × 9 columns</p>\n",
       "</div>"
      ],
      "text/plain": [
       "     Pregnancies  Glucose  BloodPressure  SkinThickness  Insulin   BMI  \\\n",
       "0              6      148             72             35        0  33.6   \n",
       "1              1       85             66             29        0  26.6   \n",
       "2              8      183             64              0        0  23.3   \n",
       "3              1       89             66             23       94  28.1   \n",
       "4              0      137             40             35      168  43.1   \n",
       "..           ...      ...            ...            ...      ...   ...   \n",
       "764            2      122             70             27        0  36.8   \n",
       "765            5      121             72             23      112  26.2   \n",
       "766            1      126             60              0        0  30.1   \n",
       "767            1       93             70             31        0  30.4   \n",
       "0              0       80             72              0        0  23.0   \n",
       "\n",
       "     DiabetesPedigreeFunction  Age  Outcome  \n",
       "0                       0.627   50        1  \n",
       "1                       0.351   31        0  \n",
       "2                       0.672   32        1  \n",
       "3                       0.167   21        0  \n",
       "4                       2.288   33        1  \n",
       "..                        ...  ...      ...  \n",
       "764                     0.340   27        0  \n",
       "765                     0.245   30        0  \n",
       "766                     0.349   47        1  \n",
       "767                     0.315   23        0  \n",
       "0                       0.500   30        0  \n",
       "\n",
       "[769 rows x 9 columns]"
      ]
     },
     "execution_count": 25,
     "metadata": {},
     "output_type": "execute_result"
    }
   ],
   "source": [
    "data2 = data.append(df2)\n",
    "data2"
   ]
  },
  {
   "cell_type": "code",
   "execution_count": 26,
   "id": "db35ecd7",
   "metadata": {
    "execution": {
     "iopub.execute_input": "2023-01-03T17:01:16.175752Z",
     "iopub.status.busy": "2023-01-03T17:01:16.174690Z",
     "iopub.status.idle": "2023-01-03T17:01:16.184413Z",
     "shell.execute_reply": "2023-01-03T17:01:16.182975Z"
    },
    "papermill": {
     "duration": 0.051857,
     "end_time": "2023-01-03T17:01:16.186976",
     "exception": false,
     "start_time": "2023-01-03T17:01:16.135119",
     "status": "completed"
    },
    "tags": []
   },
   "outputs": [],
   "source": [
    "X_train = data2 [[\"Pregnancies\" , \"Glucose\" , \"BloodPressure\" , \"SkinThickness\" , \"Insulin\" , \"BMI\"\n",
    "                                   , \"DiabetesPedigreeFunction\" , \"Age\"]] [:768]\n",
    "y_train = data2[[\"Outcome\"]][:768].values.reshape (-1,1)"
   ]
  },
  {
   "cell_type": "code",
   "execution_count": 27,
   "id": "3c25ee1e",
   "metadata": {
    "execution": {
     "iopub.execute_input": "2023-01-03T17:01:16.264791Z",
     "iopub.status.busy": "2023-01-03T17:01:16.264012Z",
     "iopub.status.idle": "2023-01-03T17:01:16.270735Z",
     "shell.execute_reply": "2023-01-03T17:01:16.269710Z"
    },
    "papermill": {
     "duration": 0.048781,
     "end_time": "2023-01-03T17:01:16.273219",
     "exception": false,
     "start_time": "2023-01-03T17:01:16.224438",
     "status": "completed"
    },
    "tags": []
   },
   "outputs": [],
   "source": [
    "X_test = data2 [[\"Pregnancies\" , \"Glucose\" , \"BloodPressure\" , \"SkinThickness\" , \"Insulin\" , \"BMI\"\n",
    "                                   , \"DiabetesPedigreeFunction\" , \"Age\"]] [768:]"
   ]
  },
  {
   "cell_type": "code",
   "execution_count": 28,
   "id": "c94030e8",
   "metadata": {
    "execution": {
     "iopub.execute_input": "2023-01-03T17:01:16.351347Z",
     "iopub.status.busy": "2023-01-03T17:01:16.350591Z",
     "iopub.status.idle": "2023-01-03T17:01:16.368941Z",
     "shell.execute_reply": "2023-01-03T17:01:16.367710Z"
    },
    "papermill": {
     "duration": 0.06062,
     "end_time": "2023-01-03T17:01:16.371866",
     "exception": false,
     "start_time": "2023-01-03T17:01:16.311246",
     "status": "completed"
    },
    "tags": []
   },
   "outputs": [
    {
     "data": {
      "text/plain": [
       "LogisticRegression(C=10.0, random_state=0, solver='liblinear')"
      ]
     },
     "execution_count": 28,
     "metadata": {},
     "output_type": "execute_result"
    }
   ],
   "source": [
    "import warnings\n",
    "warnings.filterwarnings(\"ignore\")\n",
    "model2 = LogisticRegression (solver = \"liblinear\"  , C = 10.0 , random_state = 0)\n",
    "model2.fit(X_train,y_train)"
   ]
  },
  {
   "cell_type": "code",
   "execution_count": 29,
   "id": "c420eff6",
   "metadata": {
    "execution": {
     "iopub.execute_input": "2023-01-03T17:01:16.450490Z",
     "iopub.status.busy": "2023-01-03T17:01:16.449683Z",
     "iopub.status.idle": "2023-01-03T17:01:16.458198Z",
     "shell.execute_reply": "2023-01-03T17:01:16.457316Z"
    },
    "papermill": {
     "duration": 0.050592,
     "end_time": "2023-01-03T17:01:16.460783",
     "exception": false,
     "start_time": "2023-01-03T17:01:16.410191",
     "status": "completed"
    },
    "tags": []
   },
   "outputs": [
    {
     "data": {
      "text/plain": [
       "array([0], dtype=int64)"
      ]
     },
     "execution_count": 29,
     "metadata": {},
     "output_type": "execute_result"
    }
   ],
   "source": [
    "y_pred = model2.predict (X_test)\n",
    "y_pred"
   ]
  },
  {
   "cell_type": "code",
   "execution_count": 30,
   "id": "aeefcbfd",
   "metadata": {},
   "outputs": [
    {
     "name": "stdout",
     "output_type": "stream",
     "text": [
      "0\n"
     ]
    }
   ],
   "source": [
    "result = model2.predict([[6,100,99,0,0,37.6,0.191,30]])\n",
    "print(result[0])"
   ]
  }
 ],
 "metadata": {
  "kernelspec": {
   "display_name": "Python 3",
   "language": "python",
   "name": "python3"
  },
  "language_info": {
   "codemirror_mode": {
    "name": "ipython",
    "version": 3
   },
   "file_extension": ".py",
   "mimetype": "text/x-python",
   "name": "python",
   "nbconvert_exporter": "python",
   "pygments_lexer": "ipython3",
   "version": "3.9.7"
  },
  "papermill": {
   "default_parameters": {},
   "duration": 36.299371,
   "end_time": "2023-01-03T17:01:17.624957",
   "environment_variables": {},
   "exception": null,
   "input_path": "__notebook__.ipynb",
   "output_path": "__notebook__.ipynb",
   "parameters": {},
   "start_time": "2023-01-03T17:00:41.325586",
   "version": "2.3.4"
  }
 },
 "nbformat": 4,
 "nbformat_minor": 5
}
